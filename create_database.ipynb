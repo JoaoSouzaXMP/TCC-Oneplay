{
 "cells": [
  {
   "cell_type": "markdown",
   "metadata": {},
   "source": [
    "# Ambiente de Testes"
   ]
  },
  {
   "cell_type": "code",
   "execution_count": null,
   "metadata": {},
   "outputs": [],
   "source": [
    "import pandas as pd\n",
    "import pyodbc\n",
    "from flask_bcrypt import generate_password_hash"
   ]
  },
  {
   "cell_type": "code",
   "execution_count": null,
   "metadata": {},
   "outputs": [],
   "source": [
    "SERVER = r'.\\SQLEXPRESS'\n",
    "DRIVER = 'ODBC Driver 17 for SQL Server'\n",
    "CONNECTIONSTRING = f'DRIVER={DRIVER};SERVER={SERVER};Trusted_Connection=yes;'\n",
    "CONN = pyodbc.connect(CONNECTIONSTRING, autocommit = True)\n",
    "CURSOR = CONN.cursor()"
   ]
  },
  {
   "cell_type": "code",
   "execution_count": null,
   "metadata": {},
   "outputs": [],
   "source": [
    "CURSOR.execute(''' DROP DATABASE IF EXISTS dbOneplay ''')\n",
    "CURSOR.execute(''' CREATE DATABASE dbOneplay ''')"
   ]
  },
  {
   "cell_type": "code",
   "execution_count": null,
   "metadata": {},
   "outputs": [],
   "source": [
    "CURSOR.execute(''' USE dbOneplay ''')"
   ]
  },
  {
   "cell_type": "code",
   "execution_count": null,
   "metadata": {},
   "outputs": [],
   "source": [
    "TABELAS = {}\n",
    "TABELAS['tblJogos'] = ('''\n",
    "    create table tblJogos(\n",
    "\tJogoID int not null identity(1,1) primary key,\n",
    "\tCategoriaID int,--FK\n",
    "\tExibirHome bit default 0,\n",
    "\tOrdem int,\n",
    "\tNome varchar(max),\n",
    "\tFrase varchar(max),\n",
    "\tDescricao varchar(max),\n",
    "\tDownload varchar(max),\n",
    "\tVersaoDados datetime null,\n",
    "    );\n",
    "''')\n",
    "TABELAS['TRIGGER_tblJogos1'] = ('''\n",
    "\tCREATE TRIGGER Valor_Padrao_tblJogos\n",
    "    ON tblJogos\n",
    "    AFTER INSERT\n",
    "    AS\n",
    "    BEGIN\n",
    "\tUPDATE tblJogos SET Nome = 'Nome Jogo ID '+CAST(i.JogoID AS VARCHAR(MAX)) FROM tblJogos t INNER JOIN inserted i ON t.JogoID = i.JogoID WHERE t.Nome IS NULL;\n",
    "\tUPDATE tblJogos SET Frase = 'Frase Jogo ID '+CAST(i.JogoID AS VARCHAR(MAX)) FROM tblJogos t INNER JOIN inserted i ON t.JogoID = i.JogoID WHERE t.Frase IS NULL;\n",
    "\tUPDATE tblJogos SET Descricao = 'Descricao Jogo ID '+CAST(i.JogoID AS VARCHAR(MAX)) FROM tblJogos t INNER JOIN inserted i ON t.JogoID = i.JogoID WHERE t.Descricao IS NULL;\n",
    "    END;\n",
    "''')\n",
    "TABELAS['TRIGGER_tblJogos2'] = ('''\n",
    "\tCREATE TRIGGER Versao_Dados_tblJogos\n",
    "\tON tblJogos\n",
    "\tAFTER UPDATE,INSERT\n",
    "\tAS\n",
    "\tBEGIN\n",
    "\t\tUPDATE tblJogos SET VersaoDados = GETDATE() WHERE JogoID IN (SELECT DISTINCT JogoID FROM inserted)\n",
    "\tEND;\n",
    "''')\n",
    "\n",
    "TABELAS['tblCategorias'] = ('''\n",
    "    create table tblCategorias(\n",
    "\tCategoriaID int not null identity(1,1) primary key,\n",
    "\tCategoria varchar(max) not null,\n",
    "\tVersaoDados datetime null,\n",
    "    );\n",
    "''')\n",
    "TABELAS['TRIGGER_tblCategorias'] = ('''\n",
    "\tCREATE TRIGGER Versao_Dados_tblCategorias\n",
    "\tON tblCategorias\n",
    "\tAFTER UPDATE,INSERT\n",
    "\tAS\n",
    "\tBEGIN\n",
    "\t\tUPDATE tblCategorias SET VersaoDados = GETDATE() WHERE CategoriaID IN (SELECT DISTINCT CategoriaID FROM inserted)\n",
    "\tEND;\n",
    "''')\n",
    "\n",
    "TABELAS['tblImagens'] = ('''\n",
    "    create table tblImagens(\n",
    "\tImagensID int not null identity(1,1) primary key,\n",
    "\tJogoID int not null,--FK\n",
    "\tTitulo1 varchar(max),\n",
    "\tTitulo2 varchar(max),\n",
    "\tDescricao1 varchar(max),\n",
    "\tDescricao2 varchar(max),\n",
    "\tImagem1 VARBINARY(max),\n",
    "\tImagem2 VARBINARY(max),\n",
    "\tVersaoDados datetime null,\n",
    "    );\n",
    "''')\n",
    "TABELAS['TRIGGER_tblImagens'] = ('''\n",
    "\tCREATE TRIGGER Versao_Dados_tblImagens\n",
    "\tON tblImagens\n",
    "\tAFTER UPDATE,INSERT\n",
    "\tAS\n",
    "\tBEGIN\n",
    "\t\tUPDATE tblImagens SET VersaoDados = GETDATE() WHERE ImagensID IN (SELECT DISTINCT ImagensID FROM inserted)\n",
    "\tEND;\n",
    "''')\n",
    "\n",
    "TABELAS['tblBanners'] = ('''\n",
    "    create table tblBanners(\n",
    "\tBannerID int not null identity(1,1) primary key,\n",
    "\tJogoID int not null,--FK\n",
    "\tHome VARBINARY(max),\n",
    "\tBanner VARBINARY(max),\n",
    "\tVersaoDados datetime null,\n",
    "    );                      \n",
    "''')\n",
    "TABELAS['TRIGGER_tblBanners'] = ('''\n",
    "\tCREATE TRIGGER Versao_Dados_tblBanners\n",
    "\tON tblBanners\n",
    "\tAFTER UPDATE,INSERT\n",
    "\tAS\n",
    "\tBEGIN\n",
    "\t\tUPDATE tblBanners SET VersaoDados = GETDATE() WHERE BannerID IN (SELECT DISTINCT BannerID FROM inserted)\n",
    "\tEND;\n",
    "''')\n",
    "\n",
    "TABELAS['tblVideos'] = ('''\n",
    "    create table tblVideos(\n",
    "\tVideoID int not null identity(1,1) primary key,\n",
    "\tJogoID int not null,--FK\n",
    "\tTitulo varchar(max),\n",
    "\tDescricao varchar(max),\n",
    "\tLink varchar(max),\n",
    "\tVersaoDados datetime null,\n",
    "    );                  \n",
    "''')\n",
    "TABELAS['TRIGGER_tblVideos'] = ('''\n",
    "\tCREATE TRIGGER Versao_Dados_tblVideos\n",
    "\tON tblVideos\n",
    "\tAFTER UPDATE,INSERT\n",
    "\tAS\n",
    "\tBEGIN\n",
    "\t\tUPDATE tblVideos SET VersaoDados = GETDATE() WHERE VideoID IN (SELECT DISTINCT VideoID FROM inserted)\n",
    "\tEND;\n",
    "''')\n",
    "\n",
    "TABELAS['tblTutoriais'] = ('''\n",
    "    create table tblTutoriais(\n",
    "\tTutorialID int not null identity(1,1) primary key,\n",
    "\tJogoID int not null,--FK\n",
    "\tTitulo varchar(max),\n",
    "\tDescricao varchar(max),\n",
    "\tPasso varchar(max),\n",
    "\tDescricaoPasso varchar(max),\n",
    "\tVersaoDados datetime null,\n",
    "    );                   \n",
    "''')\n",
    "TABELAS['TRIGGER_tblTutoriais'] = ('''\n",
    "\tCREATE TRIGGER Versao_Dados_tblTutoriais\n",
    "\tON tblTutoriais\n",
    "\tAFTER UPDATE,INSERT\n",
    "\tAS\n",
    "\tBEGIN\n",
    "\t\tUPDATE tblTutoriais SET VersaoDados = GETDATE() WHERE TutorialID IN (SELECT DISTINCT TutorialID FROM inserted)\n",
    "\tEND;\n",
    "''')\n",
    "\n",
    "TABELAS['tblUsuarios'] = ('''\n",
    "    CREATE TABLE tblUsuarios(\n",
    "\tUsuarioID INT NOT NULL identity(1,1) primary key,\n",
    "\tNome VARCHAR(MAX) NOT NULL,\n",
    "\tSenha VARCHAR(MAX) NOT NULL,\n",
    "\tVersaoDados datetime null,\n",
    "    );                    \n",
    "''')\n",
    "TABELAS['TRIGGER_tblUsuarios'] = ('''\n",
    "\tCREATE TRIGGER Versao_Dados_tblUsuarios\n",
    "\tON tblUsuarios\n",
    "\tAFTER UPDATE,INSERT\n",
    "\tAS\n",
    "\tBEGIN\n",
    "\t\tUPDATE tblUsuarios SET VersaoDados = GETDATE() WHERE UsuarioID IN (SELECT DISTINCT UsuarioID FROM inserted)\n",
    "\tEND;\n",
    "''')\n",
    "\n",
    "TABELAS['ForeignKeys'] = ('''\n",
    "    ALTER TABLE tblBanners ADD CONSTRAINT FK_tblBanners_tblJogos_JogoID FOREIGN KEY(JogoID) REFERENCES tblJogos(JogoID)\n",
    "    ALTER TABLE tblImagens ADD CONSTRAINT FK_tblImagens_tblJogos_JogoID FOREIGN KEY(JogoID) REFERENCES tblJogos(JogoID)\n",
    "    ALTER TABLE tblTutoriais ADD CONSTRAINT FK_tblTutoriais_tblJogos_JogoID FOREIGN KEY(JogoID) REFERENCES tblJogos(JogoID)\n",
    "    ALTER TABLE tblVideos ADD CONSTRAINT FK_tblVideos_tblJogos_JogoID FOREIGN KEY(JogoID) REFERENCES tblJogos(JogoID)\n",
    "    ALTER TABLE tblJogos ADD CONSTRAINT FK_tblJogos_tblCategorias_CategoriaID FOREIGN KEY(CategoriaID) REFERENCES tblCategorias(CategoriaID)\n",
    "''')\n",
    "\n",
    "for tabela_nome in TABELAS:\n",
    "    tabela_sql = TABELAS[tabela_nome]\n",
    "    try:\n",
    "        print('Criando {}:'.format(tabela_nome))\n",
    "        CURSOR.execute(tabela_sql)\n",
    "    except pyodbc.Error as ex:\n",
    "        sqlstate = ex.args[0] \n",
    "        if sqlstate == '42000':\n",
    "            print(\"Erro de sintaxe SQL.\")\n",
    "        else:\n",
    "            print(f\"Ocorreu um erro: {ex}\")\n",
    "        exit()"
   ]
  },
  {
   "cell_type": "code",
   "execution_count": null,
   "metadata": {},
   "outputs": [],
   "source": [
    "planilhas = pd.ExcelFile('Jogos.xlsx')\n",
    "nomes_planilhas = planilhas.sheet_names\n",
    "dados = {sheet: planilhas.parse(sheet) for sheet in nomes_planilhas}\n",
    "dados['tblJogos']"
   ]
  },
  {
   "cell_type": "code",
   "execution_count": null,
   "metadata": {},
   "outputs": [],
   "source": [
    "dados['IMG']"
   ]
  },
  {
   "cell_type": "code",
   "execution_count": null,
   "metadata": {},
   "outputs": [],
   "source": [
    "dados['tblJogos'].iloc[0].iloc[3]"
   ]
  },
  {
   "cell_type": "code",
   "execution_count": null,
   "metadata": {},
   "outputs": [],
   "source": [
    "print(len(dados['tblJogos']))\n",
    "print(len(dados['IMG'].iloc[0]))\n",
    "print(len(dados['IMG'].iloc[0].iloc[3]))"
   ]
  },
  {
   "cell_type": "code",
   "execution_count": null,
   "metadata": {},
   "outputs": [],
   "source": [
    "CURSOR.executemany('insert into tblCategorias(Categoria) values(?)',dados['tblCategorias'].values.tolist())"
   ]
  },
  {
   "cell_type": "code",
   "execution_count": null,
   "metadata": {},
   "outputs": [],
   "source": [
    "CURSOR.executemany('insert into tblJogos(CategoriaID,ExibirHome,Ordem,Nome,Frase,Descricao,Download) values(?,?,?,?,?,?,?)',dados['tblJogos'].values.tolist())\n",
    "#CURSOR.execute('INSERT INTO tblJogos DEFAULT VALUES')"
   ]
  },
  {
   "cell_type": "code",
   "execution_count": null,
   "metadata": {},
   "outputs": [],
   "source": [
    "CURSOR.executemany('insert into tblImagens(JogoID,Titulo1,Titulo2,Descricao1,Descricao2) values(?,?,?,?,?)',dados['tblImagens'].values.tolist())"
   ]
  },
  {
   "cell_type": "code",
   "execution_count": null,
   "metadata": {},
   "outputs": [],
   "source": [
    "CURSOR.executemany('insert into tblBanners(JogoID) values(?)',dados['tblBanners'].values.tolist())"
   ]
  },
  {
   "cell_type": "code",
   "execution_count": null,
   "metadata": {},
   "outputs": [],
   "source": [
    "CURSOR.executemany('insert into tblVideos(JogoID,Titulo,Descricao,Link) values(?,?,?,?)',dados['tblVideos'].values.tolist())"
   ]
  },
  {
   "cell_type": "code",
   "execution_count": null,
   "metadata": {},
   "outputs": [],
   "source": [
    "CURSOR.executemany('insert into tblTutoriais(JogoID,Titulo,Descricao,Passo,DescricaoPasso) values(?,?,?,?,?)',dados['tblTutoriais'].values.tolist())"
   ]
  },
  {
   "cell_type": "code",
   "execution_count": null,
   "metadata": {},
   "outputs": [],
   "source": [
    "CURSOR.executemany('insert into tblUsuarios(Nome,Senha) values(?,?)',dados['tblUsuarios'].values.tolist())"
   ]
  },
  {
   "cell_type": "code",
   "execution_count": null,
   "metadata": {},
   "outputs": [],
   "source": [
    "CURSOR.execute('''select a.JogoID,a.Nome,a.Descricao,b.Banner from tblJogos a inner join tblBanners b on b.JogoID = a.JogoID''').fetchone()"
   ]
  },
  {
   "cell_type": "code",
   "execution_count": null,
   "metadata": {},
   "outputs": [],
   "source": [
    "r = CURSOR.execute('select * from tblTutoriais where JogoID = ?',1).fetchall()\n",
    "r[0]"
   ]
  },
  {
   "cell_type": "code",
   "execution_count": null,
   "metadata": {},
   "outputs": [],
   "source": [
    "CURSOR.close()\n",
    "CONN.close()"
   ]
  }
 ],
 "metadata": {
  "kernelspec": {
   "display_name": "venv",
   "language": "python",
   "name": "python3"
  },
  "language_info": {
   "codemirror_mode": {
    "name": "ipython",
    "version": 3
   },
   "file_extension": ".py",
   "mimetype": "text/x-python",
   "name": "python",
   "nbconvert_exporter": "python",
   "pygments_lexer": "ipython3",
   "version": "3.12.2"
  }
 },
 "nbformat": 4,
 "nbformat_minor": 2
}
