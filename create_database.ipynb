{
 "cells": [
  {
   "cell_type": "markdown",
   "metadata": {},
   "source": [
    "# Criar Banco de Dados"
   ]
  },
  {
   "cell_type": "markdown",
   "metadata": {},
   "source": [
    "Execute tudo de uma vez"
   ]
  },
  {
   "cell_type": "code",
   "execution_count": null,
   "metadata": {},
   "outputs": [],
   "source": [
    "import pandas as pd\n",
    "import pyodbc\n",
    "from flask_bcrypt import generate_password_hash"
   ]
  },
  {
   "cell_type": "markdown",
   "metadata": {},
   "source": [
    "Edite a ConnectionString se necessário"
   ]
  },
  {
   "cell_type": "code",
   "execution_count": null,
   "metadata": {},
   "outputs": [],
   "source": [
    "SERVER = r'.\\SQLEXPRESS'\n",
    "DRIVER = 'ODBC Driver 17 for SQL Server'\n",
    "CONNECTIONSTRING = f'DRIVER={DRIVER};SERVER={SERVER};Trusted_Connection=yes;'\n",
    "CONN = pyodbc.connect(CONNECTIONSTRING, autocommit = True)\n",
    "CURSOR = CONN.cursor()"
   ]
  },
  {
   "cell_type": "code",
   "execution_count": null,
   "metadata": {},
   "outputs": [],
   "source": [
    "CURSOR.execute(''' DROP DATABASE IF EXISTS dbOneplay ''')\n",
    "CURSOR.execute(''' CREATE DATABASE dbOneplay ''')"
   ]
  },
  {
   "cell_type": "code",
   "execution_count": null,
   "metadata": {},
   "outputs": [],
   "source": [
    "CURSOR.execute(''' USE dbOneplay ''')"
   ]
  },
  {
   "cell_type": "code",
   "execution_count": null,
   "metadata": {},
   "outputs": [],
   "source": [
    "TABELAS = {}\n",
    "TABELAS['tblUsuarios'] = ('''\n",
    "    create table tblUsuarios(\n",
    "\tUsuarioID int not null identity(1,1) primary key,\n",
    "\tNome varchar(max) not null,\n",
    "\tSenha varchar(max) not null,\n",
    "\tOP bit default 0,\n",
    "\tVersaoDados datetime null,)                   \n",
    "''')\n",
    "\n",
    "TABELAS['tblJogos'] = ('''\n",
    "    create table tblJogos(\n",
    "\tJogoID int not null identity(1,1) primary key,\n",
    "\tCategoriaID int,\n",
    "\tExibirHome bit default 0,\n",
    "\tOrdem int,\n",
    "\tNome varchar(max),\n",
    "\tVersaoDados datetime null,)\n",
    "''')\n",
    "\n",
    "TABELAS['tblCategorias'] = ('''\n",
    "    create table tblCategorias(\n",
    "\tCategoriaID int not null identity(1,1) primary key,\n",
    "\tCategoria varchar(max) not null,\n",
    "\tVersaoDados datetime null,)\n",
    "''')\n",
    "\n",
    "TABELAS['tblPaginaJogos'] = ('''\n",
    "    create table tblPaginaJogos(\n",
    "\tPaginaJogoID int not null identity(1,1) primary key,\n",
    "\tJogoID int not null,\n",
    "\tResumoJogo varchar(max),\n",
    "\tLinkDownload varchar(max),\n",
    "\tDescricaoJogo varchar(max),\n",
    "\tTituloTutorial varchar(max),\n",
    "\tDescricaoTutorial varchar(max),\n",
    "\tTituloNoticia1 varchar(max),\n",
    "\tDescricaoNoticia1 varchar(max),\n",
    "\tTituloNoticia2 varchar(max),\n",
    "\tDescricaoNoticia2 varchar(max),\n",
    "\tTituloVideo varchar(max),\n",
    "\tDescricaoVideo varchar(max),\n",
    "\tLinkVideo varchar(max),\n",
    "\tVersaoDados datetime null,)\n",
    "''')\n",
    "\n",
    "TABELAS['tblImagensJogos'] = ('''\n",
    "    create table tblImagensJogos(\n",
    "\tImagemJogoID int not null identity(1,1) primary key,\n",
    "\tJogoID int ,\n",
    "\tImgIndex varbinary(max),\n",
    "\tImgPaginaJogo varbinary(max),\n",
    "\tImgNoticia1 varbinary(max),\n",
    "\tImgNoticia2 varbinary(max),\n",
    "\tVersaoDados datetime null,)               \n",
    "''')\n",
    "\n",
    "TABELAS['tblTutorialJogos'] = ('''\n",
    "    create table tblTutorialJogos(\n",
    "\tTutorialJogoid int not null identity(1,1) primary key,\n",
    "\tJogoID int ,\n",
    "\tOrdem int,\n",
    "\tPasso varchar(max),\n",
    "\tDescricaoPasso varchar(max),\n",
    "\tVersaoDados datetime null,)                 \n",
    "''')\n",
    "\n",
    "TABELAS['TRIGGER_tblUsuarios'] = ('''\n",
    "\tCREATE TRIGGER Versao_Dados_tblUsuarios\n",
    "\tON tblUsuarios\n",
    "\tAFTER UPDATE,INSERT\n",
    "\tAS\n",
    "\tBEGIN\n",
    "\t\tUPDATE tblUsuarios SET VersaoDados = GETDATE() WHERE UsuarioID IN (SELECT DISTINCT UsuarioID FROM inserted)\n",
    "\tEND;\n",
    "''')\n",
    "\n",
    "TABELAS['TRIGGER_tblJogos'] = ('''\n",
    "\tCREATE TRIGGER Versao_Dados_tblJogos\n",
    "\tON tblJogos\n",
    "\tAFTER UPDATE,INSERT\n",
    "\tAS\n",
    "\tBEGIN\n",
    "\t\tUPDATE tblJogos SET VersaoDados = GETDATE() WHERE JogoID IN (SELECT DISTINCT JogoID FROM inserted)\n",
    "\tEND;\n",
    "''')\n",
    "\n",
    "TABELAS['TRIGGER_tblCategorias'] = ('''\n",
    "\tCREATE TRIGGER Versao_Dados_tblCategorias\n",
    "\tON tblCategorias\n",
    "\tAFTER UPDATE,INSERT\n",
    "\tAS\n",
    "\tBEGIN\n",
    "\t\tUPDATE tblCategorias SET VersaoDados = GETDATE() WHERE CategoriaID IN (SELECT DISTINCT CategoriaID FROM inserted)\n",
    "\tEND;\n",
    "''')\n",
    "\n",
    "TABELAS['TRIGGER_tblPaginaJogos'] = ('''\n",
    "\tCREATE TRIGGER Versao_Dados_tblPaginaJogos\n",
    "\tON tblPaginaJogos\n",
    "\tAFTER UPDATE,INSERT\n",
    "\tAS\n",
    "\tBEGIN\n",
    "\t\tUPDATE tblPaginaJogos SET VersaoDados = GETDATE() WHERE PaginaJogoID IN (SELECT DISTINCT PaginaJogoID FROM inserted)\n",
    "\tEND;\n",
    "''')\n",
    "\n",
    "TABELAS['TRIGGER_tblImagensJogos'] = ('''\n",
    "\tCREATE TRIGGER Versao_Dados_tblImagensJogos\n",
    "\tON tblImagensJogos\n",
    "\tAFTER UPDATE,INSERT\n",
    "\tAS\n",
    "\tBEGIN\n",
    "\t\tUPDATE tblImagensJogos SET VersaoDados = GETDATE() WHERE ImagemJogoID IN (SELECT DISTINCT ImagemJogoID FROM inserted)\n",
    "\tEND;\n",
    "''')\n",
    "\n",
    "TABELAS['TRIGGER_tblTutorialJogos'] = ('''\n",
    "\tCREATE TRIGGER Versao_Dados_tblTutorialJogos\n",
    "\tON tblTutorialJogos\n",
    "\tAFTER UPDATE,INSERT\n",
    "\tAS\n",
    "\tBEGIN\n",
    "\t\tUPDATE tblTutorialJogos SET VersaoDados = GETDATE() WHERE JogoID IN (SELECT DISTINCT JogoID FROM inserted)\n",
    "\tEND;\n",
    "''')\n",
    "\n",
    "TABELAS['ForeignKeys'] = ('''\n",
    "    ALTER TABLE tblPaginaJogos ADD CONSTRAINT FK_tblBanners_tblJogos_JogoID FOREIGN KEY(JogoID) REFERENCES tblJogos(JogoID)\n",
    "\tALTER TABLE tblImagensJogos ADD CONSTRAINT FK_tblImagens_tblJogos_JogoID FOREIGN KEY(JogoID) REFERENCES tblJogos(JogoID)\n",
    "\tALTER TABLE tblTutorialJogos ADD CONSTRAINT FK_tblTutoriais_tblJogos_JogoID FOREIGN KEY(JogoID) REFERENCES tblJogos(JogoID)\n",
    "\tALTER TABLE tblJogos ADD CONSTRAINT FK_tblJogos_tblCategorias_CategoriaID FOREIGN KEY(CategoriaID) REFERENCES tblCategorias(CategoriaID)\n",
    "''')\n",
    "\n",
    "for tabela_nome in TABELAS:\n",
    "    tabela_sql = TABELAS[tabela_nome]\n",
    "    try:\n",
    "        print('\\nCriando {}:'.format(tabela_nome))\n",
    "        CURSOR.execute(tabela_sql)\n",
    "    except pyodbc.Error as ex:\n",
    "        sqlstate = ex.args[0] \n",
    "        if sqlstate == '42000':\n",
    "            print(\"Erro de sintaxe SQL.\")\n",
    "        else:\n",
    "            print(f\"Ocorreu um erro: {ex}\")\n",
    "        exit()"
   ]
  },
  {
   "cell_type": "code",
   "execution_count": null,
   "metadata": {},
   "outputs": [],
   "source": [
    "planilhas = pd.ExcelFile('PreCadastro.xlsx')\n",
    "nomes_planilhas = planilhas.sheet_names\n",
    "dados = {sheet: planilhas.parse(sheet) for sheet in nomes_planilhas}\n",
    "dados['tblJogos']"
   ]
  },
  {
   "cell_type": "code",
   "execution_count": null,
   "metadata": {},
   "outputs": [],
   "source": [
    "dados['tblJogos'].iloc[0].iloc[3]"
   ]
  },
  {
   "cell_type": "code",
   "execution_count": null,
   "metadata": {},
   "outputs": [],
   "source": [
    "print(len(dados['tblJogos']))\n",
    "print(len(dados['tblJogos'].iloc[0]))\n",
    "print(len(dados['tblJogos'].iloc[0].iloc[3]))"
   ]
  },
  {
   "cell_type": "code",
   "execution_count": null,
   "metadata": {},
   "outputs": [],
   "source": [
    "CURSOR.execute(f'''insert into tblUsuarios(Nome,Senha,OP) values('admin','{generate_password_hash('%1234').decode('utf-8')}',1)''')"
   ]
  },
  {
   "cell_type": "code",
   "execution_count": null,
   "metadata": {},
   "outputs": [],
   "source": [
    "CURSOR.executemany('insert into tblCategorias(Categoria) values(?)',dados['tblCategorias'].values.tolist())"
   ]
  },
  {
   "cell_type": "code",
   "execution_count": null,
   "metadata": {},
   "outputs": [],
   "source": [
    "CURSOR.executemany('insert into tblJogos(CategoriaID,ExibirHome,Ordem,Nome) values(?,?,?,?)',dados['tblJogos'].values.tolist())"
   ]
  },
  {
   "cell_type": "code",
   "execution_count": null,
   "metadata": {},
   "outputs": [],
   "source": [
    "CURSOR.executemany('insert into tblTutorialJogos(JogoID,Ordem,Passo,DescricaoPasso) values(?,?,?,?)',dados['tblTutorialJogos'].values.tolist())"
   ]
  },
  {
   "cell_type": "code",
   "execution_count": null,
   "metadata": {},
   "outputs": [],
   "source": [
    "CURSOR.executemany('insert into tblPaginaJogos(JogoID,ResumoJogo,LinkDownload,DescricaoJogo,TituloTutorial,DescricaoTutorial,TituloNoticia1,DescricaoNoticia1,TituloNoticia2,DescricaoNoticia2,TituloVideo,DescricaoVideo,LinkVideo) values(?,?,?,?,?,?,?,?,?,?,?,?,?)',dados['tblPaginaJogos'].values.tolist())"
   ]
  },
  {
   "cell_type": "code",
   "execution_count": null,
   "metadata": {},
   "outputs": [],
   "source": [
    "CURSOR.execute('''select * from tblJogos''').fetchall()"
   ]
  },
  {
   "cell_type": "code",
   "execution_count": null,
   "metadata": {},
   "outputs": [],
   "source": [
    "CURSOR.close()\n",
    "CONN.close()"
   ]
  }
 ],
 "metadata": {
  "kernelspec": {
   "display_name": "venv",
   "language": "python",
   "name": "python3"
  },
  "language_info": {
   "codemirror_mode": {
    "name": "ipython",
    "version": 3
   },
   "file_extension": ".py",
   "mimetype": "text/x-python",
   "name": "python",
   "nbconvert_exporter": "python",
   "pygments_lexer": "ipython3",
   "version": "3.12.2"
  }
 },
 "nbformat": 4,
 "nbformat_minor": 2
}
